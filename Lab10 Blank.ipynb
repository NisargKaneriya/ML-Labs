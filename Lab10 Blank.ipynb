{
 "cells": [
  {
   "cell_type": "markdown",
   "id": "021084a6",
   "metadata": {},
   "source": [
    "<a href='https://www.darshan.ac.in/'> <img src='https://www.darshan.ac.in/Content/media/DU_Logo.svg' width=\"250\" height=\"300\"/></a>\n",
    "<pre>\n",
    "<center><b><h1>Machine Learning - 2301CS621</b></center>\n",
    "\n",
    "<center><b><h1>Lab - 10 </b></center>\n",
    "<pre>    "
   ]
  },
  {
   "cell_type": "markdown",
   "id": "c30ce910",
   "metadata": {},
   "source": [
    "# Step 1: Import Libraries"
   ]
  },
  {
   "cell_type": "code",
   "execution_count": null,
   "id": "24301352",
   "metadata": {},
   "outputs": [],
   "source": []
  },
  {
   "cell_type": "markdown",
   "id": "535c00e9",
   "metadata": {},
   "source": [
    "# Step 2: Generate dummy data using make_blobs"
   ]
  },
  {
   "cell_type": "code",
   "execution_count": null,
   "id": "b4738a13",
   "metadata": {},
   "outputs": [],
   "source": []
  },
  {
   "cell_type": "markdown",
   "id": "b0e853bb",
   "metadata": {},
   "source": [
    "# Step 3: Plot Generated data "
   ]
  },
  {
   "cell_type": "code",
   "execution_count": null,
   "id": "8252848e",
   "metadata": {
    "scrolled": true
   },
   "outputs": [],
   "source": []
  },
  {
   "cell_type": "markdown",
   "id": "f28cc6e9",
   "metadata": {},
   "source": [
    "# Step 4: Apply Hierarchical Clustering"
   ]
  },
  {
   "cell_type": "code",
   "execution_count": null,
   "id": "010b8b56",
   "metadata": {},
   "outputs": [],
   "source": []
  },
  {
   "cell_type": "code",
   "execution_count": null,
   "id": "bee74bc1",
   "metadata": {},
   "outputs": [],
   "source": []
  },
  {
   "cell_type": "code",
   "execution_count": null,
   "id": "e2fffac3",
   "metadata": {},
   "outputs": [],
   "source": []
  },
  {
   "cell_type": "code",
   "execution_count": null,
   "id": "ad71fd6d",
   "metadata": {},
   "outputs": [],
   "source": []
  },
  {
   "cell_type": "markdown",
   "id": "8f87831f",
   "metadata": {},
   "source": [
    "# Step 5: Display Dendrogram"
   ]
  },
  {
   "cell_type": "code",
   "execution_count": null,
   "id": "f2edf5d8",
   "metadata": {},
   "outputs": [],
   "source": []
  },
  {
   "cell_type": "markdown",
   "id": "0776fa93",
   "metadata": {},
   "source": [
    "# Step 6: Generate dummy data using make_moons"
   ]
  },
  {
   "cell_type": "code",
   "execution_count": null,
   "id": "6d539a8f",
   "metadata": {},
   "outputs": [],
   "source": []
  },
  {
   "cell_type": "markdown",
   "id": "985ad355",
   "metadata": {},
   "source": [
    "# Step 7: Plot Generated data"
   ]
  },
  {
   "cell_type": "code",
   "execution_count": null,
   "id": "be569a99",
   "metadata": {},
   "outputs": [],
   "source": []
  },
  {
   "cell_type": "markdown",
   "id": "c06b3e83",
   "metadata": {},
   "source": [
    "# Step 8: apply DBSCAN Clustering "
   ]
  },
  {
   "cell_type": "code",
   "execution_count": null,
   "id": "c1820361",
   "metadata": {},
   "outputs": [],
   "source": []
  },
  {
   "cell_type": "code",
   "execution_count": null,
   "id": "ff0d2b86",
   "metadata": {},
   "outputs": [],
   "source": []
  },
  {
   "cell_type": "code",
   "execution_count": null,
   "id": "c3555e51",
   "metadata": {},
   "outputs": [],
   "source": []
  },
  {
   "cell_type": "markdown",
   "id": "e139f3b7",
   "metadata": {},
   "source": [
    "# Step 9: apply K Mean Clustering on same data"
   ]
  },
  {
   "cell_type": "code",
   "execution_count": null,
   "id": "a9192aed",
   "metadata": {},
   "outputs": [],
   "source": []
  },
  {
   "cell_type": "markdown",
   "id": "82a08d17",
   "metadata": {},
   "source": [
    "# Mall Customers Segmentation using DBSCAN"
   ]
  },
  {
   "cell_type": "markdown",
   "id": "4712b42c",
   "metadata": {},
   "source": [
    "### Perform Following steps on Dataset for  customer segmentation\n",
    "-> Load & Explore the Dataset <br>\n",
    "-> Data Preprocessing <br>\n",
    "-> Apply DBSCAN <br>\n",
    "-> Visualizing Customer Segments <br>\n",
    "-> Outliers (high-spending VIP customers or unusual shoppers <br>"
   ]
  },
  {
   "cell_type": "code",
   "execution_count": null,
   "id": "af674c44",
   "metadata": {},
   "outputs": [],
   "source": []
  },
  {
   "cell_type": "code",
   "execution_count": null,
   "id": "5035ed32",
   "metadata": {},
   "outputs": [],
   "source": []
  },
  {
   "cell_type": "code",
   "execution_count": null,
   "id": "72b67850",
   "metadata": {},
   "outputs": [],
   "source": []
  },
  {
   "cell_type": "code",
   "execution_count": null,
   "id": "2b826014",
   "metadata": {},
   "outputs": [],
   "source": []
  },
  {
   "cell_type": "code",
   "execution_count": null,
   "id": "28cd466b",
   "metadata": {},
   "outputs": [],
   "source": []
  },
  {
   "cell_type": "code",
   "execution_count": null,
   "id": "b4063283",
   "metadata": {},
   "outputs": [],
   "source": []
  },
  {
   "cell_type": "code",
   "execution_count": null,
   "id": "bed88fc6",
   "metadata": {},
   "outputs": [],
   "source": []
  },
  {
   "cell_type": "code",
   "execution_count": null,
   "id": "fa1bf718",
   "metadata": {},
   "outputs": [],
   "source": []
  }
 ],
 "metadata": {
  "kernelspec": {
   "display_name": "Python 3 (ipykernel)",
   "language": "python",
   "name": "python3"
  },
  "language_info": {
   "codemirror_mode": {
    "name": "ipython",
    "version": 3
   },
   "file_extension": ".py",
   "mimetype": "text/x-python",
   "name": "python",
   "nbconvert_exporter": "python",
   "pygments_lexer": "ipython3",
   "version": "3.9.13"
  }
 },
 "nbformat": 4,
 "nbformat_minor": 5
}
